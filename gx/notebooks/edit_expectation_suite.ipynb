{
 "cells": [
  {
   "cell_type": "markdown",
   "id": "73d922c2",
   "metadata": {},
   "source": [
    "# Edit Your Expectation Suite\n",
    "Use this notebook to recreate and modify your expectation suite:\n",
    "\n",
    "**Expectation Suite Name**: `customer_data_suite`"
   ]
  },
  {
   "cell_type": "markdown",
   "id": "dbdcd569-9942-4eec-969b-b8e9dc10ad27",
   "metadata": {},
   "source": [
    "## Import Necessary Libraries"
   ]
  },
  {
   "cell_type": "code",
   "execution_count": 1,
   "id": "95cf82c1-4da7-4bd2-a062-6bec70b061a1",
   "metadata": {},
   "outputs": [],
   "source": [
    "import great_expectations as ge\n",
    "from great_expectations.core.batch import BatchRequest\n",
    "from great_expectations.dataset import PandasDataset"
   ]
  },
  {
   "cell_type": "markdown",
   "id": "62f490cf-9e40-4894-9273-9aa9acdfb130",
   "metadata": {},
   "source": [
    "## Load the Data Context"
   ]
  },
  {
   "cell_type": "code",
   "execution_count": 2,
   "id": "deb9dd85-b905-4ff1-a696-606d2b219fcf",
   "metadata": {},
   "outputs": [],
   "source": [
    "# Load the data context (this automatically picks up the configuration from expectation.yaml)\n",
    "context = ge.data_context.DataContext()"
   ]
  },
  {
   "cell_type": "code",
   "execution_count": null,
   "id": "daf2340e-d374-4a19-8285-6764d3912174",
   "metadata": {
    "jupyter": {
     "source_hidden": true
    }
   },
   "outputs": [],
   "source": [
    "# Define the connection to your PostgreSQL datasource\n",
    "datasource_config = {\n",
    "    \"name\": \"my_postgres_datasource\",\n",
    "    \"class_name\": \"Datasource\",\n",
    "    \"module_name\": \"great_expectations.datasource\",\n",
    "    \"execution_engine\": {\n",
    "        \"class_name\": \"SqlAlchemyExecutionEngine\",\n",
    "        \"connection_string\": \"postgresql+psycopg2://<username>:<password>@<host>:<port>/<database_name>\"\n",
    "    },\n",
    "    \"data_connectors\": {\n",
    "        \"default_inferred_data_connector_name\": {\n",
    "            \"class_name\": \"InferredAssetSqlDataConnector\",\n",
    "            \"include_schema_name\": True,\n",
    "            \"default_regex\": {\n",
    "                \"pattern\": \"(.*)\",\n",
    "                \"group_names\": [\"table_name\"]\n",
    "            }\n",
    "        }\n",
    "    }\n",
    "}\n",
    "\n",
    "context.test_yaml_config(yaml.dump(datasource_config))\n",
    "context.add_datasource(**datasource_config)"
   ]
  },
  {
   "cell_type": "markdown",
   "id": "90202b8e-4c3d-4f13-a3b2-e3a948c3a049",
   "metadata": {},
   "source": [
    "## Create a Batch Request\n",
    "Use the pre-configured PostgreSQL connection to create a batch request:"
   ]
  },
  {
   "cell_type": "code",
   "execution_count": 3,
   "id": "d10eb697-7c18-4062-88f7-8252842fe16f",
   "metadata": {},
   "outputs": [],
   "source": [
    "# Create a batch request to load data from PostgreSQL using the pre-defined configuration\n",
    "batch_request = BatchRequest(\n",
    "    datasource_name=\"postgres_datasource\",  # This name should match what you have in your expectation.yaml\n",
    "    data_connector_name=\"default_inferred_data_connector_name\",\n",
    "    data_asset_name=\"public.customer_Muyiwa\",  # schema and table name\n",
    ")"
   ]
  },
  {
   "cell_type": "markdown",
   "id": "a8c04829-9f08-4ca8-b8df-9f6af90c55e0",
   "metadata": {},
   "source": [
    "## Validator Setup and Data Preview\n",
    "Create a validator to load the data and provide a sneak peek:"
   ]
  },
  {
   "cell_type": "code",
   "execution_count": 4,
   "id": "a8d599d4-ce44-4f79-a439-f0b303fbe412",
   "metadata": {},
   "outputs": [
    {
     "name": "stdout",
     "output_type": "stream",
     "text": [
      "First 5 rows of the data:\n"
     ]
    },
    {
     "data": {
      "application/vnd.jupyter.widget-view+json": {
       "model_id": "3ee1a16ab8cd43599b1dd7b7d8d1184c",
       "version_major": 2,
       "version_minor": 0
      },
      "text/plain": [
       "Calculating Metrics:   0%|          | 0/1 [00:00<?, ?it/s]"
      ]
     },
     "metadata": {},
     "output_type": "display_data"
    },
    {
     "data": {
      "text/html": [
       "<div>\n",
       "<style scoped>\n",
       "    .dataframe tbody tr th:only-of-type {\n",
       "        vertical-align: middle;\n",
       "    }\n",
       "\n",
       "    .dataframe tbody tr th {\n",
       "        vertical-align: top;\n",
       "    }\n",
       "\n",
       "    .dataframe thead th {\n",
       "        text-align: right;\n",
       "    }\n",
       "</style>\n",
       "<table border=\"1\" class=\"dataframe\">\n",
       "  <thead>\n",
       "    <tr style=\"text-align: right;\">\n",
       "      <th></th>\n",
       "      <th>id</th>\n",
       "      <th>company</th>\n",
       "      <th>last_name</th>\n",
       "      <th>first_name</th>\n",
       "      <th>phone</th>\n",
       "      <th>address</th>\n",
       "      <th>city_and_state</th>\n",
       "      <th>postal_code</th>\n",
       "      <th>country</th>\n",
       "    </tr>\n",
       "  </thead>\n",
       "  <tbody>\n",
       "    <tr>\n",
       "      <th>0</th>\n",
       "      <td>103</td>\n",
       "      <td>Atelier graphique</td>\n",
       "      <td>Schmitt</td>\n",
       "      <td>Carine</td>\n",
       "      <td>40.32.2555</td>\n",
       "      <td>54 Rue Royale</td>\n",
       "      <td>Nantes</td>\n",
       "      <td>44000</td>\n",
       "      <td>France</td>\n",
       "    </tr>\n",
       "    <tr>\n",
       "      <th>1</th>\n",
       "      <td>112</td>\n",
       "      <td>Signal Gift Stores</td>\n",
       "      <td>King</td>\n",
       "      <td>Jean</td>\n",
       "      <td>7025551838</td>\n",
       "      <td>8940 Strong St.</td>\n",
       "      <td>Las Vegas NV</td>\n",
       "      <td>83030</td>\n",
       "      <td>USA</td>\n",
       "    </tr>\n",
       "    <tr>\n",
       "      <th>2</th>\n",
       "      <td>114</td>\n",
       "      <td>Australian Collectors Co.</td>\n",
       "      <td>Ferguson</td>\n",
       "      <td>Peter</td>\n",
       "      <td>03 5422 4555</td>\n",
       "      <td>636 St Kilda Road Level 3</td>\n",
       "      <td>Melbourne Victoria</td>\n",
       "      <td>3004</td>\n",
       "      <td>Australia</td>\n",
       "    </tr>\n",
       "    <tr>\n",
       "      <th>3</th>\n",
       "      <td>119</td>\n",
       "      <td>La Rochelle Gifts</td>\n",
       "      <td>Labrune</td>\n",
       "      <td>Janine</td>\n",
       "      <td>40.42.3677</td>\n",
       "      <td>43 Rue des Cinquante Otages</td>\n",
       "      <td>Nantes</td>\n",
       "      <td>44000</td>\n",
       "      <td>France</td>\n",
       "    </tr>\n",
       "    <tr>\n",
       "      <th>4</th>\n",
       "      <td>121</td>\n",
       "      <td>Baane Mini Imports</td>\n",
       "      <td>Bergulfsen</td>\n",
       "      <td>Jonas</td>\n",
       "      <td>31 12 2555</td>\n",
       "      <td>2577 Erling Skakkes gate 78</td>\n",
       "      <td>Stavern</td>\n",
       "      <td>4110</td>\n",
       "      <td>Norway</td>\n",
       "    </tr>\n",
       "  </tbody>\n",
       "</table>\n",
       "</div>"
      ],
      "text/plain": [
       "    id                    company   last_name first_name         phone  \\\n",
       "0  103          Atelier graphique     Schmitt     Carine    40.32.2555   \n",
       "1  112         Signal Gift Stores        King       Jean    7025551838   \n",
       "2  114  Australian Collectors Co.    Ferguson      Peter  03 5422 4555   \n",
       "3  119          La Rochelle Gifts     Labrune     Janine    40.42.3677   \n",
       "4  121         Baane Mini Imports  Bergulfsen      Jonas    31 12 2555   \n",
       "\n",
       "                       address      city_and_state postal_code    country  \n",
       "0                54 Rue Royale              Nantes       44000     France  \n",
       "1              8940 Strong St.        Las Vegas NV       83030        USA  \n",
       "2    636 St Kilda Road Level 3  Melbourne Victoria        3004  Australia  \n",
       "3  43 Rue des Cinquante Otages              Nantes       44000     France  \n",
       "4  2577 Erling Skakkes gate 78             Stavern        4110     Norway  "
      ]
     },
     "execution_count": 4,
     "metadata": {},
     "output_type": "execute_result"
    }
   ],
   "source": [
    "# Get a validator to load the data and validate it\n",
    "validator = context.get_validator(\n",
    "    batch_request=batch_request,\n",
    "    expectation_suite_name=\"customer_data_suite\"  # Replace with your suite name\n",
    ")\n",
    "\n",
    "# Sneak peek at the data\n",
    "print(\"First 5 rows of the data:\")\n",
    "validator.head()"
   ]
  },
  {
   "cell_type": "markdown",
   "id": "84e3cc39-0cc5-471a-a09f-b0faa267dc11",
   "metadata": {},
   "source": [
    "## Define your expectations"
   ]
  },
  {
   "cell_type": "code",
   "execution_count": 5,
   "id": "084fd2c7-8e6b-4841-8c60-d1b57a402c93",
   "metadata": {
    "scrolled": true
   },
   "outputs": [
    {
     "data": {
      "application/vnd.jupyter.widget-view+json": {
       "model_id": "13a9c424c79d4b41ad64b9cda8a0019d",
       "version_major": 2,
       "version_minor": 0
      },
      "text/plain": [
       "Calculating Metrics:   0%|          | 0/2 [00:00<?, ?it/s]"
      ]
     },
     "metadata": {},
     "output_type": "display_data"
    },
    {
     "data": {
      "application/vnd.jupyter.widget-view+json": {
       "model_id": "9ff16f75ef364abca601c1bda722be93",
       "version_major": 2,
       "version_minor": 0
      },
      "text/plain": [
       "Calculating Metrics:   0%|          | 0/8 [00:00<?, ?it/s]"
      ]
     },
     "metadata": {},
     "output_type": "display_data"
    },
    {
     "data": {
      "application/vnd.jupyter.widget-view+json": {
       "model_id": "048a0e33973c443d8bfc2e7446256889",
       "version_major": 2,
       "version_minor": 0
      },
      "text/plain": [
       "Calculating Metrics:   0%|          | 0/10 [00:00<?, ?it/s]"
      ]
     },
     "metadata": {},
     "output_type": "display_data"
    },
    {
     "data": {
      "application/vnd.jupyter.widget-view+json": {
       "model_id": "5892df973f244494bb67e64a8c311867",
       "version_major": 2,
       "version_minor": 0
      },
      "text/plain": [
       "Calculating Metrics:   0%|          | 0/11 [00:00<?, ?it/s]"
      ]
     },
     "metadata": {},
     "output_type": "display_data"
    },
    {
     "data": {
      "text/plain": [
       "{\n",
       "  \"success\": false,\n",
       "  \"result\": {\n",
       "    \"element_count\": 126,\n",
       "    \"unexpected_count\": 122,\n",
       "    \"unexpected_percent\": 96.82539682539682,\n",
       "    \"partial_unexpected_list\": [\n",
       "      \"40.32.2555\",\n",
       "      \"7025551838\",\n",
       "      \"03 5422 4555\",\n",
       "      \"40.42.3677\",\n",
       "      \"(26) 642-7555\",\n",
       "      \"+49 69 66 90 2555\",\n",
       "      \"6505555787\",\n",
       "      \"2125557818\",\n",
       "      \"(91) 555 94 44\",\n",
       "      \"0921-12 3555\",\n",
       "      \"78.32.5555\",\n",
       "      \"+65 221 7555\",\n",
       "      \"2125557413\",\n",
       "      \"2155551555\",\n",
       "      \"6505556809\",\n",
       "      \"+65 224 1555\",\n",
       "      \"+47 2267 3215\",\n",
       "      \"2035557845\",\n",
       "      \"(1) 356-5555\",\n",
       "      \"20.16.1555\"\n",
       "    ],\n",
       "    \"missing_count\": 0,\n",
       "    \"missing_percent\": 0.0,\n",
       "    \"unexpected_percent_total\": 96.82539682539682,\n",
       "    \"unexpected_percent_nonmissing\": 96.82539682539682\n",
       "  },\n",
       "  \"meta\": {},\n",
       "  \"exception_info\": {\n",
       "    \"raised_exception\": false,\n",
       "    \"exception_traceback\": null,\n",
       "    \"exception_message\": null\n",
       "  }\n",
       "}"
      ]
     },
     "execution_count": 5,
     "metadata": {},
     "output_type": "execute_result"
    }
   ],
   "source": [
    "# 1. Expect the 'id' column to exist\n",
    "validator.expect_column_to_exist(\"id\")\n",
    "\n",
    "# 2. Expect 'id' values to not be null\n",
    "validator.expect_column_values_to_not_be_null(\"id\")\n",
    "\n",
    "# 3. Expect 'id' values to be unique\n",
    "validator.expect_column_values_to_be_unique(\"id\")\n",
    "\n",
    "# 4. Expect 'phone' values to match a specific regex pattern (assuming phone number format)\n",
    "validator.expect_column_values_to_match_regex(\"phone\", r\"^\\d{2} \\d{2} \\d{4}$\")\n"
   ]
  },
  {
   "cell_type": "markdown",
   "id": "575b5c0c-588b-403d-90d0-885b50d5112b",
   "metadata": {},
   "source": [
    "## Saving the Expectation Suite\n",
    "After defining the expectations, you need to save the expectation suite to make it reusable in your project:"
   ]
  },
  {
   "cell_type": "code",
   "execution_count": 6,
   "id": "43a90254-6356-40e2-9164-226fb09bcdf2",
   "metadata": {},
   "outputs": [
    {
     "data": {
      "text/plain": [
       "{'local_site': 'file://C:\\\\Users\\\\kanzo\\\\PycharmProjects\\\\InterviewQACode\\\\APIPython\\\\gx\\\\uncommitted/data_docs/local_site/index.html'}"
      ]
     },
     "execution_count": 6,
     "metadata": {},
     "output_type": "execute_result"
    }
   ],
   "source": [
    "# Save the expectation suite\n",
    "validator.save_expectation_suite(discard_failed_expectations=False)\n",
    "\n",
    "# To see the validation results in your data docs, you can build the data docs\n",
    "context.build_data_docs()"
   ]
  },
  {
   "cell_type": "code",
   "execution_count": null,
   "id": "02b01e63-43b0-41bd-a944-13a87314d051",
   "metadata": {},
   "outputs": [],
   "source": []
  },
  {
   "cell_type": "markdown",
   "id": "526cbf88-cab5-4038-b4ba-df406eb27d94",
   "metadata": {},
   "source": [
    "## Optional: Validate the data"
   ]
  },
  {
   "cell_type": "code",
   "execution_count": 12,
   "id": "4cc334c7-1f39-43c3-b9e2-0a62814bd524",
   "metadata": {
    "collapsed": true,
    "jupyter": {
     "outputs_hidden": true
    }
   },
   "outputs": [
    {
     "name": "stdout",
     "output_type": "stream",
     "text": [
      "2024-08-24T13:32:05+0100 - INFO - \t4 expectation(s) included in expectation_suite.\n"
     ]
    },
    {
     "data": {
      "application/vnd.jupyter.widget-view+json": {
       "model_id": "7d0cb697a5b8432a8012054b6708e03b",
       "version_major": 2,
       "version_minor": 0
      },
      "text/plain": [
       "Calculating Metrics:   0%|          | 0/18 [00:00<?, ?it/s]"
      ]
     },
     "metadata": {},
     "output_type": "display_data"
    },
    {
     "name": "stdout",
     "output_type": "stream",
     "text": [
      "Validation Results:\n",
      "{\n",
      "  \"success\": false,\n",
      "  \"results\": [\n",
      "    {\n",
      "      \"success\": true,\n",
      "      \"expectation_config\": {\n",
      "        \"expectation_type\": \"expect_column_to_exist\",\n",
      "        \"kwargs\": {\n",
      "          \"column\": \"id\",\n",
      "          \"batch_id\": \"cf8584b845d10659b24ba99be273a0c5\"\n",
      "        },\n",
      "        \"meta\": {}\n",
      "      },\n",
      "      \"result\": {},\n",
      "      \"meta\": {},\n",
      "      \"exception_info\": {\n",
      "        \"raised_exception\": false,\n",
      "        \"exception_traceback\": null,\n",
      "        \"exception_message\": null\n",
      "      }\n",
      "    },\n",
      "    {\n",
      "      \"success\": true,\n",
      "      \"expectation_config\": {\n",
      "        \"expectation_type\": \"expect_column_values_to_not_be_null\",\n",
      "        \"kwargs\": {\n",
      "          \"column\": \"id\",\n",
      "          \"batch_id\": \"cf8584b845d10659b24ba99be273a0c5\"\n",
      "        },\n",
      "        \"meta\": {}\n",
      "      },\n",
      "      \"result\": {\n",
      "        \"element_count\": 126,\n",
      "        \"unexpected_count\": 0,\n",
      "        \"unexpected_percent\": 0.0,\n",
      "        \"partial_unexpected_list\": []\n",
      "      },\n",
      "      \"meta\": {},\n",
      "      \"exception_info\": {\n",
      "        \"raised_exception\": false,\n",
      "        \"exception_traceback\": null,\n",
      "        \"exception_message\": null\n",
      "      }\n",
      "    },\n",
      "    {\n",
      "      \"success\": false,\n",
      "      \"expectation_config\": {\n",
      "        \"expectation_type\": \"expect_column_values_to_be_unique\",\n",
      "        \"kwargs\": {\n",
      "          \"column\": \"id\",\n",
      "          \"batch_id\": \"cf8584b845d10659b24ba99be273a0c5\"\n",
      "        },\n",
      "        \"meta\": {}\n",
      "      },\n",
      "      \"result\": {\n",
      "        \"element_count\": 126,\n",
      "        \"unexpected_count\": 6,\n",
      "        \"unexpected_percent\": 4.761904761904762,\n",
      "        \"partial_unexpected_list\": [\n",
      "          103,\n",
      "          129,\n",
      "          103,\n",
      "          129,\n",
      "          129,\n",
      "          129\n",
      "        ],\n",
      "        \"missing_count\": 0,\n",
      "        \"missing_percent\": 0.0,\n",
      "        \"unexpected_percent_total\": 4.761904761904762,\n",
      "        \"unexpected_percent_nonmissing\": 4.761904761904762\n",
      "      },\n",
      "      \"meta\": {},\n",
      "      \"exception_info\": {\n",
      "        \"raised_exception\": false,\n",
      "        \"exception_traceback\": null,\n",
      "        \"exception_message\": null\n",
      "      }\n",
      "    },\n",
      "    {\n",
      "      \"success\": false,\n",
      "      \"expectation_config\": {\n",
      "        \"expectation_type\": \"expect_column_values_to_match_regex\",\n",
      "        \"kwargs\": {\n",
      "          \"column\": \"phone\",\n",
      "          \"regex\": \"^\\\\d{2} \\\\d{2} \\\\d{4}$\",\n",
      "          \"batch_id\": \"cf8584b845d10659b24ba99be273a0c5\"\n",
      "        },\n",
      "        \"meta\": {}\n",
      "      },\n",
      "      \"result\": {\n",
      "        \"element_count\": 126,\n",
      "        \"unexpected_count\": 122,\n",
      "        \"unexpected_percent\": 96.82539682539682,\n",
      "        \"partial_unexpected_list\": [\n",
      "          \"40.32.2555\",\n",
      "          \"7025551838\",\n",
      "          \"03 5422 4555\",\n",
      "          \"40.42.3677\",\n",
      "          \"(26) 642-7555\",\n",
      "          \"+49 69 66 90 2555\",\n",
      "          \"6505555787\",\n",
      "          \"2125557818\",\n",
      "          \"(91) 555 94 44\",\n",
      "          \"0921-12 3555\",\n",
      "          \"78.32.5555\",\n",
      "          \"+65 221 7555\",\n",
      "          \"2125557413\",\n",
      "          \"2155551555\",\n",
      "          \"6505556809\",\n",
      "          \"+65 224 1555\",\n",
      "          \"+47 2267 3215\",\n",
      "          \"2035557845\",\n",
      "          \"(1) 356-5555\",\n",
      "          \"20.16.1555\"\n",
      "        ],\n",
      "        \"missing_count\": 0,\n",
      "        \"missing_percent\": 0.0,\n",
      "        \"unexpected_percent_total\": 96.82539682539682,\n",
      "        \"unexpected_percent_nonmissing\": 96.82539682539682\n",
      "      },\n",
      "      \"meta\": {},\n",
      "      \"exception_info\": {\n",
      "        \"raised_exception\": false,\n",
      "        \"exception_traceback\": null,\n",
      "        \"exception_message\": null\n",
      "      }\n",
      "    }\n",
      "  ],\n",
      "  \"evaluation_parameters\": {},\n",
      "  \"statistics\": {\n",
      "    \"evaluated_expectations\": 4,\n",
      "    \"successful_expectations\": 2,\n",
      "    \"unsuccessful_expectations\": 2,\n",
      "    \"success_percent\": 50.0\n",
      "  },\n",
      "  \"meta\": {\n",
      "    \"great_expectations_version\": \"0.18.19\",\n",
      "    \"expectation_suite_name\": \"customer_data_suite\",\n",
      "    \"run_id\": {\n",
      "      \"run_name\": null,\n",
      "      \"run_time\": \"2024-08-24T13:32:05.874335+01:00\"\n",
      "    },\n",
      "    \"batch_spec\": {\n",
      "      \"data_asset_name\": \"public.customer_Muyiwa\",\n",
      "      \"table_name\": \"customer_Muyiwa\",\n",
      "      \"batch_identifiers\": {},\n",
      "      \"type\": \"table\",\n",
      "      \"data_asset_name_prefix\": \"\",\n",
      "      \"data_asset_name_suffix\": \"\",\n",
      "      \"include_schema_name\": true,\n",
      "      \"schema_name\": \"public\"\n",
      "    },\n",
      "    \"batch_markers\": {\n",
      "      \"ge_load_time\": \"20240824T121420.139508Z\"\n",
      "    },\n",
      "    \"active_batch_definition\": {\n",
      "      \"datasource_name\": \"postgres_datasource\",\n",
      "      \"data_connector_name\": \"default_inferred_data_connector_name\",\n",
      "      \"data_asset_name\": \"public.customer_Muyiwa\",\n",
      "      \"batch_identifiers\": {}\n",
      "    },\n",
      "    \"validation_time\": \"20240824T123205.874335Z\",\n",
      "    \"checkpoint_name\": null\n",
      "  }\n",
      "}\n"
     ]
    }
   ],
   "source": [
    "validation_results = validator.validate()\n",
    "\n",
    "# Print validation results\n",
    "print(\"Validation Results:\")\n",
    "print(validation_results)"
   ]
  },
  {
   "cell_type": "code",
   "execution_count": null,
   "id": "52b062eb-def1-45b0-ba65-9fba2b6b2345",
   "metadata": {},
   "outputs": [],
   "source": []
  }
 ],
 "metadata": {
  "kernelspec": {
   "display_name": "Python 3 (ipykernel)",
   "language": "python",
   "name": "python3"
  },
  "language_info": {
   "codemirror_mode": {
    "name": "ipython",
    "version": 3
   },
   "file_extension": ".py",
   "mimetype": "text/x-python",
   "name": "python",
   "nbconvert_exporter": "python",
   "pygments_lexer": "ipython3",
   "version": "3.12.0"
  }
 },
 "nbformat": 4,
 "nbformat_minor": 5
}
