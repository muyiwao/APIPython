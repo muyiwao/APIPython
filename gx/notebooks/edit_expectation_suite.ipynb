{
 "cells": [
  {
   "cell_type": "markdown",
   "id": "73d922c2",
   "metadata": {},
   "source": [
    "# Edit Your Expectation Suite\n",
    "Use this notebook to recreate and modify your expectation suite:\n",
    "\n",
    "**Expectation Suite Name**: `customer_data_suite`"
   ]
  },
  {
   "cell_type": "code",
   "execution_count": 1,
   "id": "7db2849f-1039-46be-a918-f613082660a7",
   "metadata": {},
   "outputs": [],
   "source": [
    "expectation_suite_name = \"customer_data_suite\""
   ]
  },
  {
   "cell_type": "markdown",
   "id": "dbdcd569-9942-4eec-969b-b8e9dc10ad27",
   "metadata": {},
   "source": [
    "## Import Necessary Libraries"
   ]
  },
  {
   "cell_type": "code",
   "execution_count": 2,
   "id": "95cf82c1-4da7-4bd2-a062-6bec70b061a1",
   "metadata": {},
   "outputs": [],
   "source": [
    "import great_expectations as ge\n",
    "from great_expectations.core.batch import BatchRequest\n",
    "from great_expectations.dataset import PandasDataset\n",
    "from great_expectations.checkpoint import SimpleCheckpoint"
   ]
  },
  {
   "cell_type": "markdown",
   "id": "62f490cf-9e40-4894-9273-9aa9acdfb130",
   "metadata": {},
   "source": [
    "## Load the Data Context"
   ]
  },
  {
   "cell_type": "code",
   "execution_count": 3,
   "id": "deb9dd85-b905-4ff1-a696-606d2b219fcf",
   "metadata": {},
   "outputs": [],
   "source": [
    "# Load the data context (this automatically picks up the configuration from expectation.yaml)\n",
    "context = ge.data_context.DataContext()"
   ]
  },
  {
   "cell_type": "code",
   "execution_count": null,
   "id": "2db87601-22f3-4ccc-b4b4-14267cbac890",
   "metadata": {
    "jupyter": {
     "source_hidden": true
    }
   },
   "outputs": [],
   "source": [
    "# Define the connection to your PostgreSQL datasource\n",
    "datasource_config = {\n",
    "    \"name\": \"my_postgres_datasource\",\n",
    "    \"class_name\": \"Datasource\",\n",
    "    \"module_name\": \"great_expectations.datasource\",\n",
    "    \"execution_engine\": {\n",
    "        \"class_name\": \"SqlAlchemyExecutionEngine\",\n",
    "        \"connection_string\": \"postgresql+psycopg2://<username>:<password>@<host>:<port>/<database_name>\"\n",
    "    },\n",
    "    \"data_connectors\": {\n",
    "        \"default_inferred_data_connector_name\": {\n",
    "            \"class_name\": \"InferredAssetSqlDataConnector\",\n",
    "            \"include_schema_name\": True,\n",
    "            \"default_regex\": {\n",
    "                \"pattern\": \"(.*)\",\n",
    "                \"group_names\": [\"table_name\"]\n",
    "            }\n",
    "        }\n",
    "    }\n",
    "}\n",
    "\n",
    "context.test_yaml_config(yaml.dump(datasource_config))\n",
    "context.add_datasource(**datasource_config)"
   ]
  },
  {
   "cell_type": "markdown",
   "id": "90202b8e-4c3d-4f13-a3b2-e3a948c3a049",
   "metadata": {},
   "source": [
    "## Create a Batch Request\n",
    "Use the pre-configured PostgreSQL connection to create a batch request:"
   ]
  },
  {
   "cell_type": "code",
   "execution_count": 4,
   "id": "d10eb697-7c18-4062-88f7-8252842fe16f",
   "metadata": {},
   "outputs": [],
   "source": [
    "# Create a batch request to load data from PostgreSQL using the pre-defined configuration\n",
    "batch_request = BatchRequest(\n",
    "    datasource_name=\"postgres_datasource\",  # This name should match what you have in your expectation.yaml\n",
    "    data_connector_name=\"default_inferred_data_connector_name\",\n",
    "    data_asset_name=\"public.customer_Muyiwa\",  # schema and table name\n",
    ")"
   ]
  },
  {
   "cell_type": "markdown",
   "id": "a8c04829-9f08-4ca8-b8df-9f6af90c55e0",
   "metadata": {},
   "source": [
    "## Validator Setup and Data Preview\n",
    "Create a validator to load the data and provide a sneak peek:"
   ]
  },
  {
   "cell_type": "code",
   "execution_count": 5,
   "id": "a8d599d4-ce44-4f79-a439-f0b303fbe412",
   "metadata": {},
   "outputs": [
    {
     "name": "stdout",
     "output_type": "stream",
     "text": [
      "First 5 rows of the data:\n"
     ]
    },
    {
     "data": {
      "application/vnd.jupyter.widget-view+json": {
       "model_id": "909310d444f3482e85afd44a9987e84d",
       "version_major": 2,
       "version_minor": 0
      },
      "text/plain": [
       "Calculating Metrics:   0%|          | 0/1 [00:00<?, ?it/s]"
      ]
     },
     "metadata": {},
     "output_type": "display_data"
    },
    {
     "data": {
      "text/html": [
       "<div>\n",
       "<style scoped>\n",
       "    .dataframe tbody tr th:only-of-type {\n",
       "        vertical-align: middle;\n",
       "    }\n",
       "\n",
       "    .dataframe tbody tr th {\n",
       "        vertical-align: top;\n",
       "    }\n",
       "\n",
       "    .dataframe thead th {\n",
       "        text-align: right;\n",
       "    }\n",
       "</style>\n",
       "<table border=\"1\" class=\"dataframe\">\n",
       "  <thead>\n",
       "    <tr style=\"text-align: right;\">\n",
       "      <th></th>\n",
       "      <th>id</th>\n",
       "      <th>company</th>\n",
       "      <th>last_name</th>\n",
       "      <th>first_name</th>\n",
       "      <th>phone</th>\n",
       "      <th>address</th>\n",
       "      <th>city_and_state</th>\n",
       "      <th>postal_code</th>\n",
       "      <th>country</th>\n",
       "    </tr>\n",
       "  </thead>\n",
       "  <tbody>\n",
       "    <tr>\n",
       "      <th>0</th>\n",
       "      <td>103</td>\n",
       "      <td>Atelier graphique</td>\n",
       "      <td>Schmitt</td>\n",
       "      <td>Carine</td>\n",
       "      <td>40.32.2555</td>\n",
       "      <td>54 Rue Royale</td>\n",
       "      <td>Nantes</td>\n",
       "      <td>44000</td>\n",
       "      <td>France</td>\n",
       "    </tr>\n",
       "    <tr>\n",
       "      <th>1</th>\n",
       "      <td>112</td>\n",
       "      <td>Signal Gift Stores</td>\n",
       "      <td>King</td>\n",
       "      <td>Jean</td>\n",
       "      <td>7025551838</td>\n",
       "      <td>8940 Strong St.</td>\n",
       "      <td>Las Vegas NV</td>\n",
       "      <td>83030</td>\n",
       "      <td>USA</td>\n",
       "    </tr>\n",
       "    <tr>\n",
       "      <th>2</th>\n",
       "      <td>114</td>\n",
       "      <td>Australian Collectors Co.</td>\n",
       "      <td>Ferguson</td>\n",
       "      <td>Peter</td>\n",
       "      <td>03 5422 4555</td>\n",
       "      <td>636 St Kilda Road Level 3</td>\n",
       "      <td>Melbourne Victoria</td>\n",
       "      <td>3004</td>\n",
       "      <td>Australia</td>\n",
       "    </tr>\n",
       "    <tr>\n",
       "      <th>3</th>\n",
       "      <td>119</td>\n",
       "      <td>La Rochelle Gifts</td>\n",
       "      <td>Labrune</td>\n",
       "      <td>Janine</td>\n",
       "      <td>40.42.3677</td>\n",
       "      <td>43 Rue des Cinquante Otages</td>\n",
       "      <td>Nantes</td>\n",
       "      <td>44000</td>\n",
       "      <td>France</td>\n",
       "    </tr>\n",
       "    <tr>\n",
       "      <th>4</th>\n",
       "      <td>121</td>\n",
       "      <td>Baane Mini Imports</td>\n",
       "      <td>Bergulfsen</td>\n",
       "      <td>Jonas</td>\n",
       "      <td>31 12 2555</td>\n",
       "      <td>2577 Erling Skakkes gate 78</td>\n",
       "      <td>Stavern</td>\n",
       "      <td>4110</td>\n",
       "      <td>Norway</td>\n",
       "    </tr>\n",
       "  </tbody>\n",
       "</table>\n",
       "</div>"
      ],
      "text/plain": [
       "    id                    company   last_name first_name         phone  \\\n",
       "0  103          Atelier graphique     Schmitt     Carine    40.32.2555   \n",
       "1  112         Signal Gift Stores        King       Jean    7025551838   \n",
       "2  114  Australian Collectors Co.    Ferguson      Peter  03 5422 4555   \n",
       "3  119          La Rochelle Gifts     Labrune     Janine    40.42.3677   \n",
       "4  121         Baane Mini Imports  Bergulfsen      Jonas    31 12 2555   \n",
       "\n",
       "                       address      city_and_state postal_code    country  \n",
       "0                54 Rue Royale              Nantes       44000     France  \n",
       "1              8940 Strong St.        Las Vegas NV       83030        USA  \n",
       "2    636 St Kilda Road Level 3  Melbourne Victoria        3004  Australia  \n",
       "3  43 Rue des Cinquante Otages              Nantes       44000     France  \n",
       "4  2577 Erling Skakkes gate 78             Stavern        4110     Norway  "
      ]
     },
     "execution_count": 5,
     "metadata": {},
     "output_type": "execute_result"
    }
   ],
   "source": [
    "# Get a validator to load the data and validate it\n",
    "validator = context.get_validator(\n",
    "    batch_request=batch_request,\n",
    "    expectation_suite_name=expectation_suite_name  # Replace with your suite name\n",
    ")\n",
    "\n",
    "# Sneak peek at the data\n",
    "print(\"First 5 rows of the data:\")\n",
    "validator.head()"
   ]
  },
  {
   "cell_type": "markdown",
   "id": "84e3cc39-0cc5-471a-a09f-b0faa267dc11",
   "metadata": {},
   "source": [
    "## Define your expectations"
   ]
  },
  {
   "cell_type": "code",
   "execution_count": 6,
   "id": "084fd2c7-8e6b-4841-8c60-d1b57a402c93",
   "metadata": {},
   "outputs": [
    {
     "data": {
      "application/vnd.jupyter.widget-view+json": {
       "model_id": "972aea0f90624ac293d6016f80a38771",
       "version_major": 2,
       "version_minor": 0
      },
      "text/plain": [
       "Calculating Metrics:   0%|          | 0/2 [00:00<?, ?it/s]"
      ]
     },
     "metadata": {},
     "output_type": "display_data"
    },
    {
     "data": {
      "application/vnd.jupyter.widget-view+json": {
       "model_id": "2a5f6dea825c4dc5b7536f2010112bd1",
       "version_major": 2,
       "version_minor": 0
      },
      "text/plain": [
       "Calculating Metrics:   0%|          | 0/8 [00:00<?, ?it/s]"
      ]
     },
     "metadata": {},
     "output_type": "display_data"
    },
    {
     "data": {
      "application/vnd.jupyter.widget-view+json": {
       "model_id": "1b048b09b1e9437593ee8c1022357667",
       "version_major": 2,
       "version_minor": 0
      },
      "text/plain": [
       "Calculating Metrics:   0%|          | 0/10 [00:00<?, ?it/s]"
      ]
     },
     "metadata": {},
     "output_type": "display_data"
    },
    {
     "data": {
      "text/plain": [
       "{\n",
       "  \"success\": false,\n",
       "  \"result\": {\n",
       "    \"element_count\": 128,\n",
       "    \"unexpected_count\": 8,\n",
       "    \"unexpected_percent\": 6.25,\n",
       "    \"partial_unexpected_list\": [\n",
       "      103,\n",
       "      129,\n",
       "      103,\n",
       "      129,\n",
       "      129,\n",
       "      129,\n",
       "      129,\n",
       "      129\n",
       "    ],\n",
       "    \"missing_count\": 0,\n",
       "    \"missing_percent\": 0.0,\n",
       "    \"unexpected_percent_total\": 6.25,\n",
       "    \"unexpected_percent_nonmissing\": 6.25\n",
       "  },\n",
       "  \"meta\": {},\n",
       "  \"exception_info\": {\n",
       "    \"raised_exception\": false,\n",
       "    \"exception_traceback\": null,\n",
       "    \"exception_message\": null\n",
       "  }\n",
       "}"
      ]
     },
     "execution_count": 6,
     "metadata": {},
     "output_type": "execute_result"
    }
   ],
   "source": [
    "# 1. Expect the 'id' column to exist\n",
    "validator.expect_column_to_exist(\"id\")\n",
    "\n",
    "# 2. Expect 'id' values to not be null\n",
    "validator.expect_column_values_to_not_be_null(\"id\")\n",
    "\n",
    "# 3. Expect 'id' values to be unique\n",
    "validator.expect_column_values_to_be_unique(\"id\")\n",
    "\n",
    "# 4. Expect 'phone' values to match a specific regex pattern (assuming phone number format)\n",
    "#validator.expect_column_values_to_match_regex(\"phone\", r\"^\\d{2} \\d{2} \\d{4}$\")\n"
   ]
  },
  {
   "cell_type": "markdown",
   "id": "575b5c0c-588b-403d-90d0-885b50d5112b",
   "metadata": {},
   "source": [
    "## Saving the Expectation Suite\n",
    "After defining the expectations, you need to save the expectation suite to make it reusable in your project:"
   ]
  },
  {
   "cell_type": "code",
   "execution_count": 7,
   "id": "43a90254-6356-40e2-9164-226fb09bcdf2",
   "metadata": {},
   "outputs": [],
   "source": [
    "# Save the expectation suite\n",
    "validator.save_expectation_suite(discard_failed_expectations=False)"
   ]
  },
  {
   "cell_type": "markdown",
   "id": "684ec700-7a95-427b-8259-2b090328b340",
   "metadata": {},
   "source": [
    "## View Result in Data Docs"
   ]
  },
  {
   "cell_type": "code",
   "execution_count": 8,
   "id": "9e5efdda-79f9-4555-a1a2-56c2e0a69fa8",
   "metadata": {},
   "outputs": [
    {
     "data": {
      "text/plain": [
       "{'local_site': 'file://C:\\\\Users\\\\kanzo\\\\PycharmProjects\\\\InterviewQACode\\\\APIPython\\\\gx\\\\uncommitted/data_docs/local_site/index.html'}"
      ]
     },
     "execution_count": 8,
     "metadata": {},
     "output_type": "execute_result"
    }
   ],
   "source": [
    "# To see the validation results in your data docs, you can build the data docs\n",
    "context.build_data_docs()"
   ]
  },
  {
   "cell_type": "markdown",
   "id": "22a5f719-12af-4844-b9e7-37d7a23c8922",
   "metadata": {
    "jp-MarkdownHeadingCollapsed": true
   },
   "source": [
    "## Optional: Validate the data"
   ]
  },
  {
   "cell_type": "code",
   "execution_count": null,
   "id": "314167f2-8c76-4929-93aa-965f484363b1",
   "metadata": {},
   "outputs": [],
   "source": [
    "validation_results = validator.validate()\n",
    "\n",
    "# Print validation results\n",
    "print(\"Validation Results:\")\n",
    "print(validation_results)"
   ]
  },
  {
   "cell_type": "markdown",
   "id": "599d97b0-f93d-401b-9f8d-9aa6d4ac9b46",
   "metadata": {},
   "source": [
    "## Create the Checkpoint\n",
    "Now, create the checkpoint named my_checkpoint using the following code:"
   ]
  },
  {
   "cell_type": "code",
   "execution_count": 9,
   "id": "7b921648-639e-494a-8583-fc515be59c7d",
   "metadata": {},
   "outputs": [
    {
     "data": {
      "text/plain": [
       "{\n",
       "  \"action_list\": [\n",
       "    {\n",
       "      \"name\": \"store_validation_result\",\n",
       "      \"action\": {\n",
       "        \"class_name\": \"StoreValidationResultAction\"\n",
       "      }\n",
       "    },\n",
       "    {\n",
       "      \"name\": \"store_evaluation_params\",\n",
       "      \"action\": {\n",
       "        \"class_name\": \"StoreEvaluationParametersAction\"\n",
       "      }\n",
       "    },\n",
       "    {\n",
       "      \"name\": \"update_data_docs\",\n",
       "      \"action\": {\n",
       "        \"class_name\": \"UpdateDataDocsAction\"\n",
       "      }\n",
       "    }\n",
       "  ],\n",
       "  \"batch_request\": {},\n",
       "  \"class_name\": \"Checkpoint\",\n",
       "  \"config_version\": 1.0,\n",
       "  \"evaluation_parameters\": {},\n",
       "  \"module_name\": \"great_expectations.checkpoint\",\n",
       "  \"name\": \"public.customer_Muyiwa_customer_data_suite_1724700183\",\n",
       "  \"profilers\": [],\n",
       "  \"runtime_configuration\": {},\n",
       "  \"validations\": [\n",
       "    {\n",
       "      \"batch_request\": {\n",
       "        \"datasource_name\": \"postgres_datasource\",\n",
       "        \"data_connector_name\": \"default_inferred_data_connector_name\",\n",
       "        \"data_asset_name\": \"public.customer_Muyiwa\"\n",
       "      },\n",
       "      \"expectation_suite_name\": \"customer_data_suite\"\n",
       "    }\n",
       "  ]\n",
       "}"
      ]
     },
     "execution_count": 9,
     "metadata": {},
     "output_type": "execute_result"
    }
   ],
   "source": [
    "import time\n",
    "\n",
    "# Define the checkpoint configuration\n",
    "checkpoint_config = {\n",
    "    \"class_name\": \"SimpleCheckpoint\",\n",
    "    \"validations\": [\n",
    "        {\n",
    "            \"batch_request\": batch_request,\n",
    "            \"expectation_suite_name\": expectation_suite_name\n",
    "        }\n",
    "    ]\n",
    "}\n",
    "\n",
    "# Create the SimpleCheckpoint with a unique name\n",
    "checkpoint_name = f\"{validator.active_batch_definition.data_asset_name}_customer_data_suite_{int(time.time())}\"\n",
    "checkpoint = SimpleCheckpoint(\n",
    "    name=checkpoint_name,  # Unique name for each checkpoint\n",
    "    data_context=context,  # Your DataContext object\n",
    "    **checkpoint_config\n",
    ")\n",
    "\n",
    "# Save the checkpoint configuration to the default location\n",
    "context.add_checkpoint(\n",
    "    name=checkpoint_name,\n",
    "    validations=checkpoint_config[\"validations\"]\n",
    ")"
   ]
  },
  {
   "cell_type": "markdown",
   "id": "3b0a2b36-3438-4f52-91b9-5dd028efd9cd",
   "metadata": {},
   "source": [
    "## Validate Data with the Checkpoint\n",
    "You can validate your data by running the checkpoint directly from the notebook:"
   ]
  },
  {
   "cell_type": "code",
   "execution_count": 10,
   "id": "640d9197-6295-4afd-b0fd-601e84fd30a2",
   "metadata": {},
   "outputs": [
    {
     "data": {
      "application/vnd.jupyter.widget-view+json": {
       "model_id": "07fe7dfd84cf418da0455854e58d26af",
       "version_major": 2,
       "version_minor": 0
      },
      "text/plain": [
       "Calculating Metrics:   0%|          | 0/15 [00:00<?, ?it/s]"
      ]
     },
     "metadata": {},
     "output_type": "display_data"
    }
   ],
   "source": [
    "# Run the checkpoint to validate the data\n",
    "results = checkpoint.run()"
   ]
  },
  {
   "cell_type": "markdown",
   "id": "116574f5-f73e-4ee9-80a9-9e6409004298",
   "metadata": {},
   "source": [
    "## Review and Save Results\n",
    "You can review the validation results directly in the notebook:"
   ]
  },
  {
   "cell_type": "code",
   "execution_count": 11,
   "id": "f0988c8f-42f1-4763-b86e-8036a09bde99",
   "metadata": {},
   "outputs": [],
   "source": [
    "validation_result_identifier = results.list_validation_result_identifiers()[0]\n",
    "context.build_data_docs()\n",
    "context.open_data_docs(validation_result_identifier)"
   ]
  },
  {
   "cell_type": "code",
   "execution_count": 12,
   "id": "bb1fdb6c-6b48-42a9-a41b-8e28d8c965a9",
   "metadata": {},
   "outputs": [
    {
     "data": {
      "text/plain": [
       "[{\n",
       "   \"success\": false,\n",
       "   \"results\": [\n",
       "     {\n",
       "       \"success\": true,\n",
       "       \"expectation_config\": {\n",
       "         \"expectation_type\": \"expect_column_to_exist\",\n",
       "         \"kwargs\": {\n",
       "           \"column\": \"id\",\n",
       "           \"batch_id\": \"cf8584b845d10659b24ba99be273a0c5\"\n",
       "         },\n",
       "         \"meta\": {}\n",
       "       },\n",
       "       \"result\": {},\n",
       "       \"meta\": {},\n",
       "       \"exception_info\": {\n",
       "         \"raised_exception\": false,\n",
       "         \"exception_traceback\": null,\n",
       "         \"exception_message\": null\n",
       "       }\n",
       "     },\n",
       "     {\n",
       "       \"success\": true,\n",
       "       \"expectation_config\": {\n",
       "         \"expectation_type\": \"expect_column_values_to_not_be_null\",\n",
       "         \"kwargs\": {\n",
       "           \"column\": \"id\",\n",
       "           \"batch_id\": \"cf8584b845d10659b24ba99be273a0c5\"\n",
       "         },\n",
       "         \"meta\": {}\n",
       "       },\n",
       "       \"result\": {\n",
       "         \"element_count\": 128,\n",
       "         \"unexpected_count\": 0,\n",
       "         \"unexpected_percent\": 0.0,\n",
       "         \"partial_unexpected_list\": [],\n",
       "         \"partial_unexpected_counts\": []\n",
       "       },\n",
       "       \"meta\": {},\n",
       "       \"exception_info\": {\n",
       "         \"raised_exception\": false,\n",
       "         \"exception_traceback\": null,\n",
       "         \"exception_message\": null\n",
       "       }\n",
       "     },\n",
       "     {\n",
       "       \"success\": false,\n",
       "       \"expectation_config\": {\n",
       "         \"expectation_type\": \"expect_column_values_to_be_unique\",\n",
       "         \"kwargs\": {\n",
       "           \"column\": \"id\",\n",
       "           \"batch_id\": \"cf8584b845d10659b24ba99be273a0c5\"\n",
       "         },\n",
       "         \"meta\": {}\n",
       "       },\n",
       "       \"result\": {\n",
       "         \"element_count\": 128,\n",
       "         \"unexpected_count\": 8,\n",
       "         \"unexpected_percent\": 6.25,\n",
       "         \"partial_unexpected_list\": [\n",
       "           103,\n",
       "           129,\n",
       "           103,\n",
       "           129,\n",
       "           129,\n",
       "           129,\n",
       "           129,\n",
       "           129\n",
       "         ],\n",
       "         \"missing_count\": 0,\n",
       "         \"missing_percent\": 0.0,\n",
       "         \"unexpected_percent_total\": 6.25,\n",
       "         \"unexpected_percent_nonmissing\": 6.25,\n",
       "         \"partial_unexpected_counts\": [\n",
       "           {\n",
       "             \"value\": 129,\n",
       "             \"count\": 6\n",
       "           },\n",
       "           {\n",
       "             \"value\": 103,\n",
       "             \"count\": 2\n",
       "           }\n",
       "         ]\n",
       "       },\n",
       "       \"meta\": {},\n",
       "       \"exception_info\": {\n",
       "         \"raised_exception\": false,\n",
       "         \"exception_traceback\": null,\n",
       "         \"exception_message\": null\n",
       "       }\n",
       "     }\n",
       "   ],\n",
       "   \"evaluation_parameters\": {},\n",
       "   \"statistics\": {\n",
       "     \"evaluated_expectations\": 3,\n",
       "     \"successful_expectations\": 2,\n",
       "     \"unsuccessful_expectations\": 1,\n",
       "     \"success_percent\": 66.66666666666666\n",
       "   },\n",
       "   \"meta\": {\n",
       "     \"great_expectations_version\": \"0.18.19\",\n",
       "     \"expectation_suite_name\": \"customer_data_suite\",\n",
       "     \"run_id\": {\n",
       "       \"run_name\": null,\n",
       "       \"run_time\": \"2024-08-26T20:23:22.359723+01:00\"\n",
       "     },\n",
       "     \"batch_spec\": {\n",
       "       \"data_asset_name\": \"public.customer_Muyiwa\",\n",
       "       \"table_name\": \"customer_Muyiwa\",\n",
       "       \"batch_identifiers\": {},\n",
       "       \"type\": \"table\",\n",
       "       \"data_asset_name_prefix\": \"\",\n",
       "       \"data_asset_name_suffix\": \"\",\n",
       "       \"include_schema_name\": true,\n",
       "       \"schema_name\": \"public\"\n",
       "     },\n",
       "     \"batch_markers\": {\n",
       "       \"ge_load_time\": \"20240826T192322.374665Z\"\n",
       "     },\n",
       "     \"active_batch_definition\": {\n",
       "       \"datasource_name\": \"postgres_datasource\",\n",
       "       \"data_connector_name\": \"default_inferred_data_connector_name\",\n",
       "       \"data_asset_name\": \"public.customer_Muyiwa\",\n",
       "       \"batch_identifiers\": {}\n",
       "     },\n",
       "     \"validation_time\": \"20240826T192322.643926Z\",\n",
       "     \"checkpoint_name\": \"public.customer_Muyiwa_customer_data_suite_1724700183\",\n",
       "     \"validation_id\": null,\n",
       "     \"checkpoint_id\": null\n",
       "   }\n",
       " }]"
      ]
     },
     "execution_count": 12,
     "metadata": {},
     "output_type": "execute_result"
    }
   ],
   "source": [
    "view_result = results.list_validation_results()\n",
    "view_result"
   ]
  },
  {
   "cell_type": "code",
   "execution_count": null,
   "id": "54a74f5d-978c-47f7-88eb-00a5b6945886",
   "metadata": {},
   "outputs": [],
   "source": []
  }
 ],
 "metadata": {
  "kernelspec": {
   "display_name": "Python 3 (ipykernel)",
   "language": "python",
   "name": "python3"
  },
  "language_info": {
   "codemirror_mode": {
    "name": "ipython",
    "version": 3
   },
   "file_extension": ".py",
   "mimetype": "text/x-python",
   "name": "python",
   "nbconvert_exporter": "python",
   "pygments_lexer": "ipython3",
   "version": "3.12.0"
  }
 },
 "nbformat": 4,
 "nbformat_minor": 5
}
